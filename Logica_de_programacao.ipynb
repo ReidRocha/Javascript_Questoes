{
  "nbformat": 4,
  "nbformat_minor": 0,
  "metadata": {
    "colab": {
      "provenance": [],
      "collapsed_sections": [
        "3A28rMN9dgFB",
        "71ipZiUahI3U",
        "P6M6g39bOc7s",
        "JJeXdX3pO239",
        "b0kDBe2hQxfB",
        "agYzw0qi3hzh",
        "6SFSpM9O5raa",
        "QuUrJUHz8InF"
      ],
      "authorship_tag": "ABX9TyONLTZxp91LeVbitW51SqvP",
      "include_colab_link": true
    },
    "kernelspec": {
      "name": "python3",
      "display_name": "Python 3"
    },
    "language_info": {
      "name": "python"
    }
  },
  "cells": [
    {
      "cell_type": "markdown",
      "metadata": {
        "id": "view-in-github",
        "colab_type": "text"
      },
      "source": [
        "<a href=\"https://colab.research.google.com/github/ReidRocha/Javascript_Questoes/blob/master/Logica_de_programacao.ipynb\" target=\"_parent\"><img src=\"https://colab.research.google.com/assets/colab-badge.svg\" alt=\"Open In Colab\"/></a>"
      ]
    },
    {
      "cell_type": "markdown",
      "source": [
        "## Lógica de programação com Python"
      ],
      "metadata": {
        "id": "3A28rMN9dgFB"
      }
    },
    {
      "cell_type": "code",
      "source": [
        "1+1"
      ],
      "metadata": {
        "colab": {
          "base_uri": "https://localhost:8080/"
        },
        "id": "nRVpE-lddcII",
        "outputId": "bac97c3a-3425-4958-9c10-24fb0d3f50a8"
      },
      "execution_count": null,
      "outputs": [
        {
          "output_type": "execute_result",
          "data": {
            "text/plain": [
              "2"
            ]
          },
          "metadata": {},
          "execution_count": 4
        }
      ]
    },
    {
      "cell_type": "code",
      "source": [
        "'Reidner'"
      ],
      "metadata": {
        "colab": {
          "base_uri": "https://localhost:8080/",
          "height": 35
        },
        "id": "4EZZTIPvdkTA",
        "outputId": "49733409-f00b-4380-9add-c8fe59525df5"
      },
      "execution_count": null,
      "outputs": [
        {
          "output_type": "execute_result",
          "data": {
            "text/plain": [
              "'Reidner'"
            ],
            "application/vnd.google.colaboratory.intrinsic+json": {
              "type": "string"
            }
          },
          "metadata": {},
          "execution_count": 3
        }
      ]
    },
    {
      "cell_type": "code",
      "source": [
        "nome = 'Reidner'"
      ],
      "metadata": {
        "id": "abdeO8tYeVT4"
      },
      "execution_count": null,
      "outputs": []
    },
    {
      "cell_type": "code",
      "source": [
        "nome"
      ],
      "metadata": {
        "colab": {
          "base_uri": "https://localhost:8080/",
          "height": 35
        },
        "id": "AOO4zWIiejEl",
        "outputId": "9726154a-99f0-48db-b3aa-6e1684904344"
      },
      "execution_count": null,
      "outputs": [
        {
          "output_type": "execute_result",
          "data": {
            "text/plain": [
              "'Reidner'"
            ],
            "application/vnd.google.colaboratory.intrinsic+json": {
              "type": "string"
            }
          },
          "metadata": {},
          "execution_count": 11
        }
      ]
    },
    {
      "cell_type": "code",
      "source": [
        "idade = 22"
      ],
      "metadata": {
        "id": "J1_qlquFej7N"
      },
      "execution_count": null,
      "outputs": []
    },
    {
      "cell_type": "code",
      "source": [
        "idade"
      ],
      "metadata": {
        "id": "ZExwCNipemkE",
        "outputId": "28dbeb20-d850-45f2-ce58-d5e4bce85b0f",
        "colab": {
          "base_uri": "https://localhost:8080/"
        }
      },
      "execution_count": null,
      "outputs": [
        {
          "output_type": "execute_result",
          "data": {
            "text/plain": [
              "22"
            ]
          },
          "metadata": {},
          "execution_count": 7
        }
      ]
    },
    {
      "cell_type": "code",
      "source": [
        "idade = idade + 1"
      ],
      "metadata": {
        "id": "tEIHpaSdegjw"
      },
      "execution_count": null,
      "outputs": []
    },
    {
      "cell_type": "code",
      "source": [
        "print(f'O nome é {nome} e sua idade é {idade} anos')"
      ],
      "metadata": {
        "id": "w76vZKARenX0",
        "colab": {
          "base_uri": "https://localhost:8080/"
        },
        "outputId": "a9f7ea5b-a586-4aa2-8c0c-c2220fb93154"
      },
      "execution_count": null,
      "outputs": [
        {
          "output_type": "stream",
          "name": "stdout",
          "text": [
            "O nome é Reidner e sua idade é 23 anos\n"
          ]
        }
      ]
    },
    {
      "cell_type": "markdown",
      "source": [
        "# Criando Função"
      ],
      "metadata": {
        "id": "71ipZiUahI3U"
      }
    },
    {
      "cell_type": "code",
      "source": [
        "def saudacao():\n",
        "  nome = input ('Qual seu nome? Fala ai ')\n",
        "  print(f'Ola {nome}')"
      ],
      "metadata": {
        "id": "F-8vQtQ7hNqF"
      },
      "execution_count": null,
      "outputs": []
    },
    {
      "cell_type": "code",
      "source": [
        "saudacao()"
      ],
      "metadata": {
        "colab": {
          "base_uri": "https://localhost:8080/"
        },
        "id": "cOiulr6ViFPv",
        "outputId": "a8f7b000-157d-4c3e-f14e-3592953f1a6e"
      },
      "execution_count": null,
      "outputs": [
        {
          "output_type": "stream",
          "name": "stdout",
          "text": [
            "Qual seu nome? Reidner\n",
            "Ola Reidner\n"
          ]
        }
      ]
    },
    {
      "cell_type": "code",
      "source": [],
      "metadata": {
        "id": "tYbp0RitOd4p"
      },
      "execution_count": null,
      "outputs": []
    },
    {
      "cell_type": "markdown",
      "source": [
        "# Parâmetros"
      ],
      "metadata": {
        "id": "P6M6g39bOc7s"
      }
    },
    {
      "cell_type": "code",
      "source": [
        "nome = 'Reidner Rocha'"
      ],
      "metadata": {
        "id": "Zqj4Cz2GNeCv"
      },
      "execution_count": null,
      "outputs": []
    },
    {
      "cell_type": "code",
      "source": [
        "def meunome(nome_pessoa):\n",
        "  print(f'Menu nome e {nome_pessoa}')"
      ],
      "metadata": {
        "id": "Tts1nLlENjUU"
      },
      "execution_count": null,
      "outputs": []
    },
    {
      "cell_type": "code",
      "source": [
        "meunome(nome)"
      ],
      "metadata": {
        "colab": {
          "base_uri": "https://localhost:8080/"
        },
        "id": "Lu-4RQ1KOOZm",
        "outputId": "02d8b17b-3730-49a6-d928-7b491052b71e"
      },
      "execution_count": null,
      "outputs": [
        {
          "output_type": "stream",
          "name": "stdout",
          "text": [
            "Menu nome e Reidner Rocha\n"
          ]
        }
      ]
    },
    {
      "cell_type": "markdown",
      "source": [
        "# Condicionais"
      ],
      "metadata": {
        "id": "JJeXdX3pO239"
      }
    },
    {
      "cell_type": "code",
      "source": [
        "idade = 11\n",
        "\n",
        "def verifica_maioridade(idade):\n",
        "  if idade >= 18:\n",
        "    print('Pode dirigir')\n",
        "  else:\n",
        "    print('Não pode dirigir')\n",
        "\n",
        "verifica_maioridade(idade)"
      ],
      "metadata": {
        "colab": {
          "base_uri": "https://localhost:8080/"
        },
        "id": "jAmFr1ytO5Ve",
        "outputId": "e2349171-3cb6-47cf-f543-f364902cf676"
      },
      "execution_count": null,
      "outputs": [
        {
          "output_type": "stream",
          "name": "stdout",
          "text": [
            "Não pode dirigir\n"
          ]
        }
      ]
    },
    {
      "cell_type": "markdown",
      "source": [
        "# Converter"
      ],
      "metadata": {
        "id": "b0kDBe2hQxfB"
      }
    },
    {
      "cell_type": "code",
      "source": [
        "def verifica_maioridade_sem_parametros():\n",
        "  idade = input('Qual sua idade? ')\n",
        "  idade = int(idade)\n",
        "  if idade >= 18:\n",
        "    print('Pode dirigir')\n",
        "  else:\n",
        "    print('Não pode dirigir')\n",
        "\n",
        "verifica_maioridade_sem_parametros()"
      ],
      "metadata": {
        "colab": {
          "base_uri": "https://localhost:8080/"
        },
        "id": "jbq9OGJRPycg",
        "outputId": "2507254d-8e89-455e-88c1-fcc4ad30692d"
      },
      "execution_count": null,
      "outputs": [
        {
          "output_type": "stream",
          "name": "stdout",
          "text": [
            "Qual sua idade? 10\n",
            "Não pode dirigir\n"
          ]
        }
      ]
    },
    {
      "cell_type": "markdown",
      "source": [
        "# Listas"
      ],
      "metadata": {
        "id": "agYzw0qi3hzh"
      }
    },
    {
      "cell_type": "code",
      "source": [
        "idade = 22"
      ],
      "metadata": {
        "id": "zed6vhVv3lBF"
      },
      "execution_count": null,
      "outputs": []
    },
    {
      "cell_type": "code",
      "source": [
        "type(idade)"
      ],
      "metadata": {
        "colab": {
          "base_uri": "https://localhost:8080/"
        },
        "id": "9Wwrsr4K3uXQ",
        "outputId": "a6cf22b7-e6aa-4e5d-c8b2-1b63e453c1f0"
      },
      "execution_count": null,
      "outputs": [
        {
          "output_type": "execute_result",
          "data": {
            "text/plain": [
              "int"
            ]
          },
          "metadata": {},
          "execution_count": 2
        }
      ]
    },
    {
      "cell_type": "code",
      "source": [
        "nome = 'Reidner'\n",
        "type(nome)"
      ],
      "metadata": {
        "colab": {
          "base_uri": "https://localhost:8080/"
        },
        "id": "yd3O1RQC3wNp",
        "outputId": "580d0c38-3300-4ec9-bd00-73006b9b586d"
      },
      "execution_count": null,
      "outputs": [
        {
          "output_type": "execute_result",
          "data": {
            "text/plain": [
              "str"
            ]
          },
          "metadata": {},
          "execution_count": 3
        }
      ]
    },
    {
      "cell_type": "code",
      "source": [
        "idades = [18,19,20,21,22]\n",
        "type(idades)"
      ],
      "metadata": {
        "colab": {
          "base_uri": "https://localhost:8080/"
        },
        "id": "liZ-4Mxn31qh",
        "outputId": "624f95a8-68e8-4b1d-e8bd-86c2d0dd6b8b"
      },
      "execution_count": null,
      "outputs": [
        {
          "output_type": "execute_result",
          "data": {
            "text/plain": [
              "list"
            ]
          },
          "metadata": {},
          "execution_count": 9
        }
      ]
    },
    {
      "cell_type": "code",
      "source": [
        "idades[1]"
      ],
      "metadata": {
        "colab": {
          "base_uri": "https://localhost:8080/"
        },
        "id": "y7ImzsUJ4AuQ",
        "outputId": "43b3308c-2041-473d-e167-71b1472fc7f0"
      },
      "execution_count": null,
      "outputs": [
        {
          "output_type": "execute_result",
          "data": {
            "text/plain": [
              "19"
            ]
          },
          "metadata": {},
          "execution_count": 5
        }
      ]
    },
    {
      "cell_type": "code",
      "source": [
        "idades[0:3]"
      ],
      "metadata": {
        "colab": {
          "base_uri": "https://localhost:8080/"
        },
        "id": "AMisRF7z4IBC",
        "outputId": "6e094a0a-80bc-4f22-c057-f0c044c74c34"
      },
      "execution_count": null,
      "outputs": [
        {
          "output_type": "execute_result",
          "data": {
            "text/plain": [
              "[18, 19, 20]"
            ]
          },
          "metadata": {},
          "execution_count": 7
        }
      ]
    },
    {
      "cell_type": "code",
      "source": [
        "idades[-1]"
      ],
      "metadata": {
        "colab": {
          "base_uri": "https://localhost:8080/"
        },
        "id": "gt81cz9R4QWQ",
        "outputId": "0e43a92a-7469-4a39-ffe2-fc1d0e457065"
      },
      "execution_count": null,
      "outputs": [
        {
          "output_type": "execute_result",
          "data": {
            "text/plain": [
              "22"
            ]
          },
          "metadata": {},
          "execution_count": 10
        }
      ]
    },
    {
      "cell_type": "code",
      "source": [],
      "metadata": {
        "id": "eVQv8QK04rex"
      },
      "execution_count": null,
      "outputs": []
    },
    {
      "cell_type": "markdown",
      "source": [
        "# Loops"
      ],
      "metadata": {
        "id": "6SFSpM9O5raa"
      }
    },
    {
      "cell_type": "code",
      "source": [
        "# FOR FORA DA FUNÇÂO\n",
        "\n",
        "idades2 = [60,10,18,20,12,11]\n",
        "\n",
        "def verifica_maioridade(idade):\n",
        "  if idade >= 18:\n",
        "    print(f'{idade} anos tem permissão para dirigir')\n",
        "  else:\n",
        "    print(f'{idade} anos não tem permissão para dirigir')\n",
        "\n",
        "for idade in idades2:\n",
        "  verifica_maioridade(idade)\n"
      ],
      "metadata": {
        "colab": {
          "base_uri": "https://localhost:8080/"
        },
        "id": "VRs-hRj25ufi",
        "outputId": "af9452dc-a312-46ad-99d6-b30a20650ccc"
      },
      "execution_count": null,
      "outputs": [
        {
          "output_type": "stream",
          "name": "stdout",
          "text": [
            "60 anos tem permissão para dirigir\n",
            "10 anos não tem permissão para dirigir\n",
            "18 anos tem permissão para dirigir\n",
            "20 anos tem permissão para dirigir\n",
            "12 anos não tem permissão para dirigir\n",
            "11 anos não tem permissão para dirigir\n"
          ]
        }
      ]
    },
    {
      "cell_type": "code",
      "source": [
        "# FOR DENTRO DA FUNÇÂO\n",
        "\n",
        "idades2 = [60,10,18,20,12,11]\n",
        "\n",
        "def verifica_maioridade(idades_list):\n",
        "  for idade in idades_list:\n",
        "    if idade >= 18:\n",
        "      print(f'{idade} anos tem permissão para dirigir')\n",
        "    else:\n",
        "      print(f'{idade} anos não tem permissão para dirigir')\n",
        "\n",
        "verifica_maioridade(idades2)"
      ],
      "metadata": {
        "colab": {
          "base_uri": "https://localhost:8080/"
        },
        "id": "L6LY_L-R7FlC",
        "outputId": "9c2c584b-5468-47e9-88e1-7e02808a7fd7"
      },
      "execution_count": null,
      "outputs": [
        {
          "output_type": "stream",
          "name": "stdout",
          "text": [
            "60 anos tem permissão para dirigir\n",
            "10 anos não tem permissão para dirigir\n",
            "18 anos tem permissão para dirigir\n",
            "20 anos tem permissão para dirigir\n",
            "12 anos não tem permissão para dirigir\n",
            "11 anos não tem permissão para dirigir\n"
          ]
        }
      ]
    },
    {
      "cell_type": "markdown",
      "source": [
        "# Booleano"
      ],
      "metadata": {
        "id": "QuUrJUHz8InF"
      }
    },
    {
      "cell_type": "code",
      "source": [
        "idade = 22\n",
        "idade >= 18"
      ],
      "metadata": {
        "colab": {
          "base_uri": "https://localhost:8080/"
        },
        "id": "_R4s7HmL8KjZ",
        "outputId": "9a1d56b7-6701-426f-c902-6791c1c83f8d"
      },
      "execution_count": null,
      "outputs": [
        {
          "output_type": "execute_result",
          "data": {
            "text/plain": [
              "True"
            ]
          },
          "metadata": {},
          "execution_count": 15
        }
      ]
    },
    {
      "cell_type": "code",
      "source": [
        "idade = 15\n",
        "idade >= 18"
      ],
      "metadata": {
        "colab": {
          "base_uri": "https://localhost:8080/"
        },
        "id": "aOGZ9YA58ar6",
        "outputId": "37338e1a-b64c-4e7b-9cb8-6e414a1f5796"
      },
      "execution_count": null,
      "outputs": [
        {
          "output_type": "execute_result",
          "data": {
            "text/plain": [
              "False"
            ]
          },
          "metadata": {},
          "execution_count": 17
        }
      ]
    },
    {
      "cell_type": "code",
      "source": [
        "permissoes = []\n",
        "idades = [20, 10, 50]\n",
        "\n",
        "def verifica_pode_dirigir (idades, permissoes):\n",
        "  for idade in idades:\n",
        "    if idade >= 18:\n",
        "      permissoes.append(True)\n",
        "    else:\n",
        "      permissoes.append(False)\n",
        "\n",
        "verifica_pode_dirigir(idades, permissoes)\n",
        "print(permissoes)"
      ],
      "metadata": {
        "colab": {
          "base_uri": "https://localhost:8080/"
        },
        "id": "KOTdrC1Z8ccu",
        "outputId": "e143307d-d190-404f-a514-1084391decba"
      },
      "execution_count": null,
      "outputs": [
        {
          "output_type": "stream",
          "name": "stdout",
          "text": [
            "[True, False, True]\n"
          ]
        }
      ]
    },
    {
      "cell_type": "code",
      "source": [
        "permissoes = []\n",
        "idades = [20, 10, 50]\n",
        "\n",
        "def verifica_pode_dirigir (idades, permissoes):\n",
        "  for idade in idades:\n",
        "    if idade >= 18:\n",
        "      permissoes.append(True)\n",
        "    else:\n",
        "      permissoes.append(False)\n",
        "\n",
        "verifica_pode_dirigir(idades, permissoes)\n",
        "\n",
        "for x in range(len(idades)):\n",
        "  if permissoes[x] == True:\n",
        "    print(f'Quem possui {idades[x]} anos tem permissao para dirigir')\n",
        "  else:\n",
        "    print(f'Quem possui {idades[x]} anos não tem permissao para dirigir')"
      ],
      "metadata": {
        "colab": {
          "base_uri": "https://localhost:8080/"
        },
        "id": "qnVhKKst8mwu",
        "outputId": "8f088771-5d0d-401b-c2db-d081a371e60d"
      },
      "execution_count": null,
      "outputs": [
        {
          "output_type": "stream",
          "name": "stdout",
          "text": [
            "Quem possui 20 anos tem permissao para dirigir\n",
            "Quem possui 10 anos não tem permissao para dirigir\n",
            "Quem possui 50 anos tem permissao para dirigir\n"
          ]
        }
      ]
    },
    {
      "cell_type": "markdown",
      "source": [
        "# Tipos em uma Lista"
      ],
      "metadata": {
        "id": "lQ9oz0Co_O2r"
      }
    },
    {
      "cell_type": "code",
      "source": [
        "Lista = ['Reidner', 22, True, '10']\n",
        "\n",
        "for elemento in Lista:\n",
        "  print(f'{elemento} é ', type(elemento))"
      ],
      "metadata": {
        "colab": {
          "base_uri": "https://localhost:8080/"
        },
        "id": "REHztpvn_Ry5",
        "outputId": "c766b9e5-020b-4e0a-f387-4cf116bd46cf"
      },
      "execution_count": null,
      "outputs": [
        {
          "output_type": "stream",
          "name": "stdout",
          "text": [
            "Reidner é  <class 'str'>\n",
            "22 é  <class 'int'>\n",
            "True é  <class 'bool'>\n",
            "10 é  <class 'str'>\n"
          ]
        }
      ]
    },
    {
      "cell_type": "markdown",
      "source": [
        "# Import"
      ],
      "metadata": {
        "id": "fDG8XM70AgST"
      }
    },
    {
      "cell_type": "code",
      "source": [
        "from random import randrange, seed"
      ],
      "metadata": {
        "id": "iadHuIwe_46y"
      },
      "execution_count": 3,
      "outputs": []
    },
    {
      "cell_type": "code",
      "source": [
        "randrange(0,11)\n",
        "seed(11)"
      ],
      "metadata": {
        "id": "aIzgkXHaAyQZ"
      },
      "execution_count": 29,
      "outputs": []
    },
    {
      "cell_type": "code",
      "source": [
        "lista_mat = []\n",
        "\n",
        "for notas in range(8): \n",
        "  lista_mat.append(randrange(1,11))\n",
        "lista_mat  "
      ],
      "metadata": {
        "colab": {
          "base_uri": "https://localhost:8080/"
        },
        "id": "U1yU4_a-BDBe",
        "outputId": "f2295b18-5566-4b21-ba16-4af6bc496b9b"
      },
      "execution_count": 30,
      "outputs": [
        {
          "output_type": "execute_result",
          "data": {
            "text/plain": [
              "[8, 9, 8, 8, 9, 10, 4, 3]"
            ]
          },
          "metadata": {},
          "execution_count": 30
        }
      ]
    },
    {
      "cell_type": "markdown",
      "source": [
        "# Gráficos"
      ],
      "metadata": {
        "id": "Yx_oXiVEIZDN"
      }
    },
    {
      "cell_type": "code",
      "source": [
        "import matplotlib.pyplot as plt"
      ],
      "metadata": {
        "id": "w3ds0D5ZIa-y"
      },
      "execution_count": 1,
      "outputs": []
    },
    {
      "cell_type": "code",
      "source": [
        "x = list(range(1, 9))\n",
        "y = lista_mat\n",
        "plt.plot(x,y, marker='o')\n",
        "plt.title('Notas matematica')\n",
        "plt.xlabel('Provas')\n",
        "plt.ylabel('Nota')\n",
        "plt.show()"
      ],
      "metadata": {
        "colab": {
          "base_uri": "https://localhost:8080/",
          "height": 472
        },
        "id": "ocnHEFhpKRM0",
        "outputId": "9308f37f-b7c8-4a48-fd16-9aa2d908d511"
      },
      "execution_count": 38,
      "outputs": [
        {
          "output_type": "display_data",
          "data": {
            "text/plain": [
              "<Figure size 640x480 with 1 Axes>"
            ],
            "image/png": "[encoded data removed]"
          },
          "metadata": {}
        }
      ]
    },
    {
      "cell_type": "code",
      "source": [],
      "metadata": {
        "colab": {
          "base_uri": "https://localhost:8080/",
          "height": 447
        },
        "id": "i2q2cyWOMk0M",
        "outputId": "65507fd7-aa3e-44f8-b79e-b83b309f1bd9"
      },
      "execution_count": 33,
      "outputs": [
        {
          "output_type": "execute_result",
          "data": {
            "text/plain": [
              "[<matplotlib.lines.Line2D at 0x7fa351de76a0>]"
            ]
          },
          "metadata": {},
          "execution_count": 33
        },
        {
          "output_type": "display_data",
          "data": {
            "text/plain": [
              "<Figure size 640x480 with 1 Axes>"
            ],
            "image/png": "[encoded data removed]"
          },
          "metadata": {}
        }
      ]
    }
  ]
}